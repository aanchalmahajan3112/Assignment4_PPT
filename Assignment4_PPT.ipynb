{
  "nbformat": 4,
  "nbformat_minor": 0,
  "metadata": {
    "colab": {
      "provenance": []
    },
    "kernelspec": {
      "name": "python3",
      "display_name": "Python 3"
    },
    "language_info": {
      "name": "python"
    }
  },
  "cells": [
    {
      "cell_type": "code",
      "execution_count": 1,
      "metadata": {
        "colab": {
          "base_uri": "https://localhost:8080/"
        },
        "id": "5zqqc0QmbOhC",
        "outputId": "f4fef799-d284-497b-9b77-763c0cc8ce37"
      },
      "outputs": [
        {
          "output_type": "stream",
          "name": "stdout",
          "text": [
            "[1, 5]\n"
          ]
        }
      ],
      "source": [
        "\n",
        "# 💡 **Question 1**\n",
        "# Given three integer arrays arr1, arr2 and arr3 **sorted** in **strictly increasing** order, return a sorted array of **only** the integers that appeared in **all** three arrays.\n",
        "\n",
        "# **Example 1:**\n",
        "\n",
        "# Input: arr1 = [1,2,3,4,5], arr2 = [1,2,5,7,9], arr3 = [1,3,4,5,8]\n",
        "\n",
        "# Output: [1,5]\n",
        "\n",
        "# **Explanation:** Only 1 and 5 appeared in the three arrays.\n",
        "\n",
        "\n",
        "def find_common_elements(arr1, arr2, arr3):\n",
        "    i, j, k = 0, 0, 0\n",
        "    common_elements = []\n",
        "\n",
        "    while i < len(arr1) and j < len(arr2) and k < len(arr3):\n",
        "        if arr1[i] == arr2[j] == arr3[k]:\n",
        "            common_elements.append(arr1[i])\n",
        "            i += 1\n",
        "            j += 1\n",
        "            k += 1\n",
        "        elif arr1[i] < arr2[j]:\n",
        "            i += 1\n",
        "        elif arr2[j] < arr3[k]:\n",
        "            j += 1\n",
        "        else:\n",
        "            k += 1\n",
        "\n",
        "    return common_elements\n",
        "\n",
        "arr1 = [1, 2, 3, 4, 5]\n",
        "arr2 = [1, 2, 5, 7, 9]\n",
        "arr3 = [1, 3, 4, 5, 8]\n",
        "\n",
        "result = find_common_elements(arr1, arr2, arr3)\n",
        "print(result)\n",
        "\n"
      ]
    },
    {
      "cell_type": "code",
      "source": [
        "\n",
        "# 💡 **Question 2**\n",
        "\n",
        "# Given two **0-indexed** integer arrays nums1 and nums2, return *a list* answer *of size* 2 *where:*\n",
        "\n",
        "# - answer[0] *is a list of all **distinct** integers in* nums1 *which are **not** present in* nums2*.*\n",
        "# - answer[1] *is a list of all **distinct** integers in* nums2 *which are **not** present in* nums1.\n",
        "\n",
        "# **Note** that the integers in the lists may be returned in **any** order.\n",
        "\n",
        "# **Example 1:**\n",
        "\n",
        "# **Input:** nums1 = [1,2,3], nums2 = [2,4,6]\n",
        "\n",
        "# **Output:** [[1,3],[4,6]]\n",
        "\n",
        "# **Explanation:**\n",
        "\n",
        "# For nums1, nums1[1] = 2 is present at index 0 of nums2, whereas nums1[0] = 1 and nums1[2] = 3 are not present in nums2. Therefore, answer[0] = [1,3].\n",
        "\n",
        "# For nums2, nums2[0] = 2 is present at index 1 of nums1, whereas nums2[1] = 4 and nums2[2] = 6 are not present in nums2. Therefore, answer[1] = [4,6].\n",
        "\n",
        "\n",
        "def find_disjoint_arrays(nums1, nums2):\n",
        "    set_nums1 = set(nums1)\n",
        "    set_nums2 = set(nums2)\n",
        "    answer = [[], []]\n",
        "\n",
        "    for num in nums1:\n",
        "        if num not in set_nums2:\n",
        "            answer[0].append(num)\n",
        "\n",
        "    for num in nums2:\n",
        "        if num not in set_nums1:\n",
        "            answer[1].append(num)\n",
        "\n",
        "    return answer\n",
        "\n",
        "nums1 = [1, 2, 3]\n",
        "nums2 = [2, 4, 6]\n",
        "\n",
        "result = find_disjoint_arrays(nums1, nums2)\n",
        "print(result)\n"
      ],
      "metadata": {
        "colab": {
          "base_uri": "https://localhost:8080/"
        },
        "id": "V2hr1ACbbpiw",
        "outputId": "f62d6fb7-d4c2-48f3-97f6-c6a47e990482"
      },
      "execution_count": 2,
      "outputs": [
        {
          "output_type": "stream",
          "name": "stdout",
          "text": [
            "[[1, 3], [4, 6]]\n"
          ]
        }
      ]
    },
    {
      "cell_type": "code",
      "source": [
        "\n",
        "# 💡 **Question 3**\n",
        "# Given a 2D integer array matrix, return *the **transpose** of* matrix.\n",
        "\n",
        "# The **transpose** of a matrix is the matrix flipped over its main diagonal, switching the matrix's row and column indices.\n",
        "\n",
        "# **Example 1:**\n",
        "\n",
        "# Input: matrix = [[1,2,3],[4,5,6],[7,8,9]]\n",
        "\n",
        "# Output: [[1,4,7],[2,5,8],[3,6,9]]\n",
        "\n",
        "\n",
        "\n",
        "def transpose_matrix(matrix):\n",
        "    rows = len(matrix)\n",
        "    cols = len(matrix[0])\n",
        "    transposed = [[0] * rows for _ in range(cols)]\n",
        "\n",
        "    for i in range(rows):\n",
        "        for j in range(cols):\n",
        "            transposed[j][i] = matrix[i][j]\n",
        "\n",
        "    return transposed\n",
        "\n",
        "matrix = [[1, 2, 3], [4, 5, 6], [7, 8, 9]]\n",
        "\n",
        "result = transpose_matrix(matrix)\n",
        "print(result)\n"
      ],
      "metadata": {
        "colab": {
          "base_uri": "https://localhost:8080/"
        },
        "id": "Yeilk7lvcAci",
        "outputId": "4321e440-cf6f-4a47-f166-b9226b1667e8"
      },
      "execution_count": 3,
      "outputs": [
        {
          "output_type": "stream",
          "name": "stdout",
          "text": [
            "[[1, 4, 7], [2, 5, 8], [3, 6, 9]]\n"
          ]
        }
      ]
    },
    {
      "cell_type": "code",
      "source": [
        "\n",
        "# 💡 **Question 4**\n",
        "# Given an integer array nums of 2n integers, group these integers into n pairs (a1, b1), (a2, b2), ..., (an, bn) such that the sum of min(ai, bi) for all i is **maximized**. Return *the maximized sum*.\n",
        "\n",
        "# **Example 1:**\n",
        "\n",
        "# Input: nums = [1,4,3,2]\n",
        "\n",
        "# Output: 4\n",
        "\n",
        "# **Explanation:** All possible pairings (ignoring the ordering of elements) are:\n",
        "\n",
        "# 1. (1, 4), (2, 3) -> min(1, 4) + min(2, 3) = 1 + 2 = 3\n",
        "\n",
        "# 2. (1, 3), (2, 4) -> min(1, 3) + min(2, 4) = 1 + 2 = 3\n",
        "\n",
        "# 3. (1, 2), (3, 4) -> min(1, 2) + min(3, 4) = 1 + 3 = 4\n",
        "\n",
        "# So the maximum possible sum is 4.\n",
        "\n",
        "\n",
        "def array_pair_sum(nums):\n",
        "    nums.sort()\n",
        "    max_sum = 0\n",
        "\n",
        "    for i in range(0, len(nums), 2):\n",
        "        max_sum += nums[i]\n",
        "\n",
        "    return max_sum\n",
        "\n",
        "nums = [1, 4, 3, 2]\n",
        "\n",
        "result = array_pair_sum(nums)\n",
        "print(result)\n"
      ],
      "metadata": {
        "colab": {
          "base_uri": "https://localhost:8080/"
        },
        "id": "VkKzCvTFckb-",
        "outputId": "a65cf546-fda1-4ddd-8e0f-e02869009ed4"
      },
      "execution_count": 4,
      "outputs": [
        {
          "output_type": "stream",
          "name": "stdout",
          "text": [
            "4\n"
          ]
        }
      ]
    },
    {
      "cell_type": "code",
      "source": [
        "# 💡 **Question 5**\n",
        "# You have n coins and you want to build a staircase with these coins. The staircase consists of k rows where the ith row has exactly i coins. The last row of the staircase **may be** incomplete.\n",
        "\n",
        "# Given the integer n, return *the number of **complete rows** of the staircase you will build*.\n",
        "\n",
        "# **Example 1:**\n",
        "\n",
        "# []()\n",
        "\n",
        "# ![v2.jpg](https://s3-us-west-2.amazonaws.com/secure.notion-static.com/4bd91cfa-d2b1-47b3-8197-a72e8dcfff4b/v2.jpg)\n",
        "\n",
        "# **Input:** n = 5\n",
        "\n",
        "# **Output:** 2\n",
        "\n",
        "# **Explanation:** Because the 3rd row is incomplete, we return 2.\n",
        "\n",
        "\n",
        "import math\n",
        "\n",
        "def arrange_coins(n):\n",
        "    k = int(math.sqrt(2 * n))\n",
        "    if k * (k + 1) // 2 <= n:\n",
        "        return k\n",
        "    return k - 1\n",
        "\n",
        "n = 5\n",
        "\n",
        "result = arrange_coins(n)\n",
        "print(result)\n"
      ],
      "metadata": {
        "colab": {
          "base_uri": "https://localhost:8080/"
        },
        "id": "4RUWgi0tc8on",
        "outputId": "306adbb5-29cd-4e54-9bcd-f656717096bd"
      },
      "execution_count": 5,
      "outputs": [
        {
          "output_type": "stream",
          "name": "stdout",
          "text": [
            "2\n"
          ]
        }
      ]
    },
    {
      "cell_type": "code",
      "source": [
        "\n",
        "# 💡 **Question 6**\n",
        "# Given an integer array nums sorted in **non-decreasing** order, return *an array of **the squares of each number** sorted in non-decreasing order*.\n",
        "\n",
        "# **Example 1:**\n",
        "\n",
        "# Input: nums = [-4,-1,0,3,10]\n",
        "\n",
        "# Output: [0,1,9,16,100]\n",
        "\n",
        "# **Explanation:** After squaring, the array becomes [16,1,0,9,100].\n",
        "# After sorting, it becomes [0,1,9,16,100]\n",
        "\n",
        "\n",
        "def sorted_squares(nums):\n",
        "    squared = [num**2 for num in nums]\n",
        "    squared.sort()\n",
        "    return squared\n",
        "\n",
        "nums = [-4, -1, 0, 3, 10]\n",
        "\n",
        "result = sorted_squares(nums)\n",
        "print(result)\n"
      ],
      "metadata": {
        "colab": {
          "base_uri": "https://localhost:8080/"
        },
        "id": "mGar_SLMdXFq",
        "outputId": "48187ecd-3a80-42ae-ee58-d40083a821d3"
      },
      "execution_count": 6,
      "outputs": [
        {
          "output_type": "stream",
          "name": "stdout",
          "text": [
            "[0, 1, 9, 16, 100]\n"
          ]
        }
      ]
    },
    {
      "cell_type": "code",
      "source": [
        "\n",
        "# 💡 **Question 7**\n",
        "# You are given an m x n matrix M initialized with all 0's and an array of operations ops, where ops[i] = [ai, bi] means M[x][y] should be incremented by one for all 0 <= x < ai and 0 <= y < bi.\n",
        "\n",
        "# Count and return *the number of maximum integers in the matrix after performing all the operations*\n",
        "\n",
        "# **Example 1:**\n",
        "\n",
        "# ![q4.jpg](https://s3-us-west-2.amazonaws.com/secure.notion-static.com/4d0890d0-7bc7-4f59-be8e-352d9f3c1c52/q4.jpg)\n",
        "\n",
        "# **Input:** m = 3, n = 3, ops = [[2,2],[3,3]]\n",
        "\n",
        "# **Output:** 4\n",
        "\n",
        "# **Explanation:** The maximum integer in M is 2, and there are four of it in M. So return 4.\n",
        "\n",
        "def max_count(m, n, ops):\n",
        "    if not ops:\n",
        "        return m * n\n",
        "\n",
        "    min_x = min(op[0] for op in ops)\n",
        "    min_y = min(op[1] for op in ops)\n",
        "\n",
        "    return min_x * min_y\n",
        "\n",
        "m = 3\n",
        "n = 3\n",
        "ops = [[2, 2], [3, 3]]\n",
        "\n",
        "result = max_count(m, n, ops)\n",
        "print(result)\n"
      ],
      "metadata": {
        "colab": {
          "base_uri": "https://localhost:8080/"
        },
        "id": "NtzY1h0yd3D8",
        "outputId": "958d8e5e-b152-42db-dcd6-3e712cbc40c1"
      },
      "execution_count": 7,
      "outputs": [
        {
          "output_type": "stream",
          "name": "stdout",
          "text": [
            "4\n"
          ]
        }
      ]
    },
    {
      "cell_type": "code",
      "source": [
        "\n",
        "# 💡 **Question 8**\n",
        "\n",
        "# Given the array nums consisting of 2n elements in the form [x1,x2,...,xn,y1,y2,...,yn].\n",
        "\n",
        "# *Return the array in the form* [x1,y1,x2,y2,...,xn,yn].\n",
        "\n",
        "# **Example 1:**\n",
        "\n",
        "# **Input:** nums = [2,5,1,3,4,7], n = 3\n",
        "\n",
        "# **Output:** [2,3,5,4,1,7]\n",
        "\n",
        "# **Explanation:** Since x1=2, x2=5, x3=1, y1=3, y2=4, y3=7 then the answer is [2,3,5,4,1,7].\n",
        "\n",
        "\n",
        "def shuffle_array(nums, n):\n",
        "    shuffled = []\n",
        "\n",
        "    for i in range(n):\n",
        "        shuffled.append(nums[i])\n",
        "        shuffled.append(nums[n + i])\n",
        "\n",
        "    return shuffled\n",
        "\n",
        "nums = [2, 5, 1, 3, 4, 7]\n",
        "n = 3\n",
        "\n",
        "result = shuffle_array(nums, n)\n",
        "print(result)\n"
      ],
      "metadata": {
        "colab": {
          "base_uri": "https://localhost:8080/"
        },
        "id": "qxA3342ZeRQS",
        "outputId": "19870f60-dd84-4a19-f39d-a900eb50143d"
      },
      "execution_count": 8,
      "outputs": [
        {
          "output_type": "stream",
          "name": "stdout",
          "text": [
            "[2, 3, 5, 4, 1, 7]\n"
          ]
        }
      ]
    }
  ]
}